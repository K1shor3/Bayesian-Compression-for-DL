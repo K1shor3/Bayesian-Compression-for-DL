{
 "cells": [
  {
   "cell_type": "code",
   "execution_count": 368,
   "metadata": {},
   "outputs": [],
   "source": [
    "import math\n",
    "import numpy as np\n",
    "import torch\n",
    "from torch.nn.parameter import Parameter\n",
    "import torch.nn.functional as F\n",
    "from torch import nn\n",
    "from torch.nn.modules import Module\n",
    "from torch.autograd import Variable\n",
    "from torch.nn.modules import utils\n",
    "import matplotlib.pyplot as plt\n",
    "import imageio"
   ]
  },
  {
   "cell_type": "code",
   "execution_count": 8,
   "metadata": {},
   "outputs": [],
   "source": [
    "fc1_w_init = None #np.random.randn(*fc1_w_init.shape)\n",
    "fc1_b_init = None #np.random.randn(*fc1_b_init.shape)\n",
    "fc2_w_init = None #np.random.randn(*fc2_w_init.shape)\n",
    "fc2_b_init = None # np.random.randn(*fc2_b_init.shape)\n",
    "fc3_w_init = None #np.random.randn(*fc3_w_init.shape)\n",
    "fc3_b_init = None #np.random.randn(*fc3_b_init.shape)\n",
    "# build a simple MLP"
   ]
  },
  {
   "cell_type": "code",
   "execution_count": 9,
   "metadata": {},
   "outputs": [],
   "source": [
    "def reparametrize(mu, logvar, cuda=False, sampling=True):\n",
    "    if sampling:\n",
    "        std = logvar.mul(0.5).exp_()\n",
    "        if cuda:\n",
    "            eps = torch.cuda.FloatTensor(std.size()).normal_()\n",
    "        else:\n",
    "            eps = torch.FloatTensor(std.size()).normal_()\n",
    "        eps = Variable(eps)\n",
    "        return mu + eps * std\n",
    "    else:\n",
    "        return mu"
   ]
  },
  {
   "cell_type": "code",
   "execution_count": 10,
   "metadata": {},
   "outputs": [],
   "source": [
    "# -------------------------------------------------------\n",
    "# LINEAR LAYER\n",
    "# -------------------------------------------------------\n",
    "\n",
    "class LinearGroupNJ(Module):\n",
    "    \"\"\"Fully Connected Group Normal-Jeffrey's layer (aka Group Variational Dropout).\n",
    "\n",
    "    References:\n",
    "    [1] Kingma, Diederik P., Tim Salimans, and Max Welling. \"Variational dropout and the local reparameterization trick.\" NIPS (2015).\n",
    "    [2] Molchanov, Dmitry, Arsenii Ashukha, and Dmitry Vetrov. \"Variational Dropout Sparsifies Deep Neural Networks.\" ICML (2017).\n",
    "    [3] Louizos, Christos, Karen Ullrich, and Max Welling. \"Bayesian Compression for Deep Learning.\" NIPS (2017).\n",
    "    \"\"\"\n",
    "\n",
    "    def __init__(self, in_features, out_features, cuda=False, init_weight=None, init_bias=None, clip_var=None):\n",
    "\n",
    "        super(LinearGroupNJ, self).__init__()\n",
    "        self.cuda = cuda\n",
    "        self.in_features = in_features\n",
    "        self.out_features = out_features\n",
    "        self.clip_var = clip_var\n",
    "        self.deterministic = False  # flag is used for compressed inference\n",
    "        # trainable params according to Eq.(6)\n",
    "        # dropout params\n",
    "        self.z_mu = Parameter(torch.Tensor(in_features))\n",
    "        self.z_logvar = Parameter(torch.Tensor(in_features))  # = z_mu^2 * alpha\n",
    "        # weight params\n",
    "        self.weight_mu = Parameter(torch.Tensor(out_features, in_features))\n",
    "        self.weight_logvar = Parameter(torch.Tensor(out_features, in_features))\n",
    "\n",
    "        self.bias_mu = Parameter(torch.Tensor(out_features))\n",
    "        self.bias_logvar = Parameter(torch.Tensor(out_features))\n",
    "\n",
    "        # init params either random or with pretrained net\n",
    "        self.reset_parameters(init_weight, init_bias)\n",
    "\n",
    "        # activations for kl\n",
    "        self.sigmoid = nn.Sigmoid()\n",
    "        self.softplus = nn.Softplus()\n",
    "\n",
    "        # numerical stability param\n",
    "        self.epsilon = 1e-8\n",
    "\n",
    "    def reset_parameters(self, init_weight, init_bias):\n",
    "        # init means\n",
    "        stdv = 1. / math.sqrt(self.weight_mu.size(1))\n",
    "\n",
    "        self.z_mu.data.normal_(1, 1e-2)\n",
    "\n",
    "        if init_weight is not None:\n",
    "            self.weight_mu.data = torch.Tensor(init_weight)\n",
    "        else:\n",
    "            self.weight_mu.data.normal_(0, stdv)\n",
    "\n",
    "        if init_bias is not None:\n",
    "            self.bias_mu.data = torch.Tensor(init_bias)\n",
    "        else:\n",
    "            self.bias_mu.data.fill_(0)\n",
    "\n",
    "        # init logvars\n",
    "        self.z_logvar.data.normal_(-9, 1e-2)\n",
    "        self.weight_logvar.data.normal_(-9, 1e-2)\n",
    "        self.bias_logvar.data.normal_(-9, 1e-2)\n",
    "\n",
    "    def clip_variances(self):\n",
    "        if self.clip_var:\n",
    "            self.weight_logvar.data.clamp_(max=math.log(self.clip_var))\n",
    "            self.bias_logvar.data.clamp_(max=math.log(self.clip_var))\n",
    "\n",
    "    def get_log_dropout_rates(self):\n",
    "        log_alpha = self.z_logvar - torch.log(self.z_mu.pow(2) + self.epsilon)\n",
    "        return log_alpha\n",
    "\n",
    "    def compute_posterior_params(self):\n",
    "        weight_var, z_var = self.weight_logvar.exp(), self.z_logvar.exp()\n",
    "        self.post_weight_var = self.z_mu.pow(2) * weight_var + z_var * self.weight_mu.pow(2) + z_var * weight_var\n",
    "        self.post_weight_mu = self.weight_mu * self.z_mu\n",
    "        return self.post_weight_mu, self.post_weight_var\n",
    "\n",
    "    def forward(self, x):\n",
    "        if self.deterministic:\n",
    "            assert self.training == False, \"Flag deterministic is True. This should not be used in training.\"\n",
    "            return F.linear(x, self.post_weight_mu, self.bias_mu)\n",
    "\n",
    "        batch_size = x.size()[0]\n",
    "        # compute z  \n",
    "        # note that we reparametrise according to [2] Eq. (11) (not [1])\n",
    "        z = reparametrize(self.z_mu.repeat(batch_size, 1), self.z_logvar.repeat(batch_size, 1), sampling=self.training,\n",
    "                          cuda=self.cuda)\n",
    "\n",
    "        # apply local reparametrisation trick see [1] Eq. (6)\n",
    "        # to the parametrisation given in [3] Eq. (6)\n",
    "        xz = x * z\n",
    "        mu_activations = F.linear(xz, self.weight_mu, self.bias_mu)\n",
    "        var_activations = F.linear(xz.pow(2), self.weight_logvar.exp(), self.bias_logvar.exp())\n",
    "\n",
    "        return reparametrize(mu_activations, var_activations.log(), sampling=self.training, cuda=self.cuda)\n",
    "\n",
    "    def kl_divergence(self):\n",
    "        # KL(q(z)||p(z))\n",
    "        # we use the kl divergence approximation given by [2] Eq.(14)\n",
    "        k1, k2, k3 = 0.63576, 1.87320, 1.48695\n",
    "        log_alpha = self.get_log_dropout_rates()\n",
    "        KLD = -torch.sum(k1 * self.sigmoid(k2 + k3 * log_alpha) - 0.5 * self.softplus(-log_alpha) - k1)\n",
    "\n",
    "        # KL(q(w|z)||p(w|z))\n",
    "        # we use the kl divergence given by [3] Eq.(8)\n",
    "        KLD_element = -0.5 * self.weight_logvar + 0.5 * (self.weight_logvar.exp() + self.weight_mu.pow(2)) - 0.5\n",
    "        KLD += torch.sum(KLD_element)\n",
    "\n",
    "        # KL bias\n",
    "        KLD_element = -0.5 * self.bias_logvar + 0.5 * (self.bias_logvar.exp() + self.bias_mu.pow(2)) - 0.5\n",
    "        KLD += torch.sum(KLD_element)\n",
    "\n",
    "        return KLD\n",
    "\n",
    "    def __repr__(self):\n",
    "        return self.__class__.__name__ + ' (' \\\n",
    "               + str(self.in_features) + ' -> ' \\\n",
    "               + str(self.out_features) + ')'\n"
   ]
  },
  {
   "cell_type": "code",
   "execution_count": 100,
   "metadata": {},
   "outputs": [],
   "source": [
    "# build a simple MLP\n",
    "class Net(nn.Module):\n",
    "    def __init__(self):\n",
    "        super(Net, self).__init__()\n",
    "        # activation\n",
    "        self.relu = nn.ReLU()\n",
    "        # layers\n",
    "        self.fc1 = LinearGroupNJ(28 * 28, 300, clip_var=0.04, init_weight=fc1_w_init, init_bias=fc1_b_init, cuda=False)\n",
    "        self.fc2 = LinearGroupNJ(300, 100,init_weight=fc2_w_init, init_bias=fc2_b_init, cuda=False)\n",
    "        self.fc3 = LinearGroupNJ(100, 10,init_weight=fc3_w_init, init_bias=fc3_b_init, cuda=False)\n",
    "        # layers including kl_divergence\n",
    "        self.kl_list = [self.fc1, self.fc2, self.fc3]\n",
    "\n",
    "    def forward(self, x):\n",
    "        x = x.view(-1, 28 * 28)\n",
    "        x = self.relu(self.fc1(x))\n",
    "        x = self.relu(self.fc2(x))\n",
    "        return self.fc3(x)\n",
    "\n",
    "    def get_masks(self,thresholds):\n",
    "        weight_masks = []\n",
    "        mask = None\n",
    "        for i, (layer, threshold) in enumerate(zip(self.kl_list, thresholds)):\n",
    "            # compute dropout mask\n",
    "            if mask is None:\n",
    "                log_alpha = layer.get_log_dropout_rates().cpu().data.numpy()\n",
    "                mask = log_alpha < threshold\n",
    "            else:\n",
    "                mask = np.copy(next_mask)\n",
    "            try:\n",
    "                log_alpha = layers[i + 1].get_log_dropout_rates().cpu().data.numpy()\n",
    "                next_mask = log_alpha < thresholds[i + 1]\n",
    "            except:\n",
    "                # must be the last mask\n",
    "                next_mask = np.ones(10)\n",
    "            print('Layer:'+str(i))\n",
    "            print('Current layer log alpha length:'+str(mask.shape))\n",
    "            print('Next layer log alpha length:'+str(next_mask.shape))\n",
    "            weight_mask = np.expand_dims(mask, axis=0) * np.expand_dims(next_mask, axis=1)\n",
    "            weight_masks.append(weight_mask.astype(np.float))\n",
    "        return weight_masks\n",
    "\n",
    "    def kl_divergence(self):\n",
    "        KLD = 0\n",
    "        for layer in self.kl_list:\n",
    "            KLD += layer.kl_divergence()\n",
    "        return KLD\n",
    "\n",
    "# init model\n",
    "model = Net()"
   ]
  },
  {
   "cell_type": "code",
   "execution_count": 757,
   "metadata": {},
   "outputs": [],
   "source": [
    "epoch = 15\n"
   ]
  },
  {
   "cell_type": "code",
   "execution_count": 758,
   "metadata": {},
   "outputs": [
    {
     "data": {
      "text/plain": [
       "<All keys matched successfully>"
      ]
     },
     "execution_count": 758,
     "metadata": {},
     "output_type": "execute_result"
    }
   ],
   "source": [
    "ckpt = torch.load('epoch'+str(epoch)+'bcdl_pretrained.pt',map_location=torch.device('cpu'))\n",
    "model.load_state_dict(ckpt)"
   ]
  },
  {
   "cell_type": "code",
   "execution_count": 759,
   "metadata": {},
   "outputs": [],
   "source": [
    "layers = [model.fc1, model.fc2, model.fc3]"
   ]
  },
  {
   "cell_type": "code",
   "execution_count": 760,
   "metadata": {},
   "outputs": [],
   "source": [
    "thresholds = [-2.8, -3., -5.]"
   ]
  },
  {
   "cell_type": "code",
   "execution_count": 761,
   "metadata": {},
   "outputs": [
    {
     "name": "stdout",
     "output_type": "stream",
     "text": [
      "Layer:0\n",
      "Current layer log alpha length:(784,)\n",
      "Next layer log alpha length:(300,)\n",
      "Layer:1\n",
      "Current layer log alpha length:(300,)\n",
      "Next layer log alpha length:(100,)\n",
      "Layer:2\n",
      "Current layer log alpha length:(100,)\n",
      "Next layer log alpha length:(10,)\n"
     ]
    }
   ],
   "source": [
    "masks = model.get_masks(thresholds)"
   ]
  },
  {
   "cell_type": "code",
   "execution_count": 762,
   "metadata": {},
   "outputs": [
    {
     "data": {
      "image/png": "[encoded data removed]",
      "text/plain": [
       "<Figure size 432x288 with 2 Axes>"
      ]
     },
     "metadata": {
      "needs_background": "light"
     },
     "output_type": "display_data"
    }
   ],
   "source": [
    "plt.imshow(masks[0])\n",
    "plt.colorbar()\n",
    "plt.show()"
   ]
  },
  {
   "cell_type": "code",
   "execution_count": 763,
   "metadata": {},
   "outputs": [],
   "source": [
    "weight_mus = [model.fc1.weight_mu, model.fc2.weight_mu, model.fc3.weight_mu]; #import pdb; pdb.set_trace()\n",
    "log_alphas = [model.fc1.get_log_dropout_rates(), model.fc2.get_log_dropout_rates(), model.fc3.get_log_dropout_rates()]"
   ]
  },
  {
   "cell_type": "code",
   "execution_count": 764,
   "metadata": {},
   "outputs": [],
   "source": [
    "def visualise_weights(weight_mus, log_alphas, layer):\n",
    "\n",
    "\n",
    "    i = layer\n",
    "    f, ax = plt.subplots(1, 1)\n",
    "    weight_mu = (weight_mus[i].cpu().data.numpy())\n",
    "    # alpha\n",
    "    log_alpha_fc1 = log_alphas[i].unsqueeze(0).cpu().data.numpy()\n",
    "    log_alpha_fc1 = log_alpha_fc1 < thresholds[i]\n",
    "    try:\n",
    "        log_alpha_fc2 = log_alphas[i + 1].unsqueeze(1).cpu().data.numpy()\n",
    "        log_alpha_fc2 = log_alpha_fc2 < thresholds[i+1]\n",
    "    except:\n",
    "        log_alpha_fc2 = np.ones((10,1))\n",
    "    mask = log_alpha_fc1 * log_alpha_fc2\n",
    "    num_nz = (mask>0).sum()\n",
    "    tot_num = mask.shape[0] * mask.shape[1]\n",
    "    ratio_z = 1-(num_nz/tot_num)\n",
    "    # weight\n",
    "    c = np.max(np.abs(weight_mu))\n",
    "    s = ax.imshow(weight_mu * mask, cmap='seismic', interpolation='none', vmin=-c, vmax=c)\n",
    "    ax.grid(\"off\")\n",
    "    ax.set_yticks([])\n",
    "    ax.set_xticks([])\n",
    "    s.set_clim([-c * 0.5, c * 0.5])\n",
    "    f.colorbar(s)\n",
    "    plt.title('Ratio of zeros:%.2f'%(ratio_z))\n",
    "    "
   ]
  },
  {
   "cell_type": "code",
   "execution_count": 765,
   "metadata": {},
   "outputs": [
    {
     "data": {
      "image/png": "[encoded data removed]",
      "text/plain": [
       "<Figure size 432x288 with 2 Axes>"
      ]
     },
     "metadata": {
      "needs_background": "light"
     },
     "output_type": "display_data"
    }
   ],
   "source": [
    "visualise_weights(weight_mus,log_alphas,0)"
   ]
  },
  {
   "cell_type": "code",
   "execution_count": 766,
   "metadata": {},
   "outputs": [],
   "source": [
    "def visualise_weights_fullNet(weight_mus, log_alphas, epoch,sav_name):\n",
    "    num_layers = len(weight_mus)\n",
    "\n",
    "    for i in range(num_layers):\n",
    "        f, ax = plt.subplots(1, 1)\n",
    "        weight_mu = (weight_mus[i].cpu().data.numpy())\n",
    "        # alpha\n",
    "        log_alpha_fc1 = log_alphas[i].unsqueeze(0).cpu().data.numpy()\n",
    "        log_alpha_fc1 = log_alpha_fc1 < thresholds[i]\n",
    "        try:\n",
    "            log_alpha_fc2 = log_alphas[i + 1].unsqueeze(1).cpu().data.numpy()\n",
    "            log_alpha_fc2 = log_alpha_fc2 < thresholds[i+1]\n",
    "        except:\n",
    "            log_alpha_fc2 = np.ones((10,1))\n",
    "        mask = log_alpha_fc1 * log_alpha_fc2\n",
    "        num_nz = (mask>0).sum()\n",
    "        tot_num = mask.shape[0] * mask.shape[1]\n",
    "        ratio_z = 1-(num_nz/tot_num)\n",
    "        # weight\n",
    "        c = np.max(np.abs(weight_mu))\n",
    "        s = ax.imshow(weight_mu * mask, cmap='seismic', interpolation='none', vmin=-c, vmax=c)\n",
    "        ax.grid(\"off\")\n",
    "        ax.set_yticks([])\n",
    "        ax.set_xticks([])\n",
    "        s.set_clim([-c * 0.5, c * 0.5])\n",
    "        f.colorbar(s)\n",
    "        plt.title(\"Epoch:\" + str(epoch)+', ratio of zeros:%.2f'%(ratio_z))\n",
    "        plt.savefig(sav_name + str(i) + '_e' + str(epoch) + \".png\", bbox_inches='tight')\n",
    "        plt.close()"
   ]
  },
  {
   "cell_type": "code",
   "execution_count": 767,
   "metadata": {},
   "outputs": [],
   "source": [
    "def generate_gif(save='tmp', epochs=10):\n",
    "    images = []\n",
    "    filenames = [save + \"%d.png\" % (epoch) for epoch in [3,6,9,12,15]]\n",
    "    for filename in filenames:\n",
    "        images.append(imageio.imread(filename))\n",
    "        #os.remove(filename)\n",
    "    imageio.mimsave('./figures/' + save + '.gif', images, duration=.5)"
   ]
  },
  {
   "cell_type": "code",
   "execution_count": 768,
   "metadata": {},
   "outputs": [],
   "source": [
    "sav_name = 'pretrained_weight'\n",
    "visualise_weights_fullNet(weight_mus, log_alphas, epoch,sav_name)\n"
   ]
  },
  {
   "cell_type": "code",
   "execution_count": null,
   "metadata": {},
   "outputs": [],
   "source": []
  },
  {
   "cell_type": "code",
   "execution_count": null,
   "metadata": {},
   "outputs": [],
   "source": []
  },
  {
   "cell_type": "code",
   "execution_count": null,
   "metadata": {},
   "outputs": [],
   "source": []
  },
  {
   "cell_type": "code",
   "execution_count": null,
   "metadata": {},
   "outputs": [],
   "source": []
  },
  {
   "cell_type": "code",
   "execution_count": null,
   "metadata": {},
   "outputs": [],
   "source": []
  },
  {
   "cell_type": "code",
   "execution_count": null,
   "metadata": {},
   "outputs": [],
   "source": []
  },
  {
   "cell_type": "code",
   "execution_count": 771,
   "metadata": {},
   "outputs": [],
   "source": [
    "generate_gif(sav_name+'0_e', epoch)"
   ]
  },
  {
   "cell_type": "code",
   "execution_count": 773,
   "metadata": {},
   "outputs": [
    {
     "data": {
      "text/plain": [
       "tensor(296698.5312, grad_fn=<AddBackward0>)"
      ]
     },
     "execution_count": 773,
     "metadata": {},
     "output_type": "execute_result"
    }
   ],
   "source": [
    "model.kl_divergence()"
   ]
  },
  {
   "cell_type": "code",
   "execution_count": null,
   "metadata": {},
   "outputs": [],
   "source": []
  },
  {
   "cell_type": "code",
   "execution_count": null,
   "metadata": {},
   "outputs": [],
   "source": []
  },
  {
   "cell_type": "code",
   "execution_count": null,
   "metadata": {},
   "outputs": [],
   "source": []
  },
  {
   "cell_type": "code",
   "execution_count": null,
   "metadata": {},
   "outputs": [],
   "source": []
  },
  {
   "cell_type": "code",
   "execution_count": null,
   "metadata": {},
   "outputs": [],
   "source": []
  },
  {
   "cell_type": "code",
   "execution_count": 353,
   "metadata": {},
   "outputs": [],
   "source": [
    "#layer 1 Not sure about the following part!!!\n",
    "var_w = model.fc1.weight_logvar.exp()\n",
    "mu_w = model.fc1.weight_mu\n",
    "var_z = model.fc1.z_logvar.exp()\n",
    "mu_z = model.fc1.z_mu\n",
    "\n",
    "i=56;j=45\n",
    "var_zi = var_z[i].detach().numpy()\n",
    "mu_zi = mu_z[i].detach().numpy()\n",
    "var_wij = var_w[i,j].detach().numpy()\n",
    "mu_wij = mu_w[i,j].detach().numpy()\n",
    "no_samples = 1000\n"
   ]
  },
  {
   "cell_type": "code",
   "execution_count": 354,
   "metadata": {},
   "outputs": [],
   "source": [
    "zi_samples = math.sqrt(var_zi)*np.random.randn(no_samples) + mu_zi"
   ]
  },
  {
   "cell_type": "code",
   "execution_count": 355,
   "metadata": {},
   "outputs": [],
   "source": [
    "new_mu = (mu_wij*zi_samples)\n",
    "new_sigma = np.power(var_wij*(np.power(zi_samples,2)),0.5)"
   ]
  },
  {
   "cell_type": "code",
   "execution_count": 356,
   "metadata": {},
   "outputs": [],
   "source": [
    "wij_samples = new_sigma*(np.random.randn(len(new_mu))) + new_mu"
   ]
  },
  {
   "cell_type": "code",
   "execution_count": 357,
   "metadata": {
    "scrolled": true
   },
   "outputs": [
    {
     "data": {
      "image/png": "[encoded data removed]",
      "text/plain": [
       "<Figure size 432x288 with 1 Axes>"
      ]
     },
     "metadata": {
      "needs_background": "light"
     },
     "output_type": "display_data"
    }
   ],
   "source": [
    "hist = np.histogram(wij_samples,10)\n",
    "pdf = hist[0]/np.sum(hist[0])\n",
    "plt.plot(hist[1][1:],pdf)\n",
    "plt.grid('on')\n",
    "plt.xlim(-0.08,0.08)\n",
    "plt.title('Weight distribution after Epoch:'+str(epoch))\n",
    "plt.savefig('WD_epoch'+str(epoch)+'png',bbox_inches='tight')"
   ]
  },
  {
   "cell_type": "code",
   "execution_count": null,
   "metadata": {},
   "outputs": [],
   "source": []
  },
  {
   "cell_type": "code",
   "execution_count": 776,
   "metadata": {},
   "outputs": [],
   "source": [
    "def unit_round_off(t=23):\n",
    "    \"\"\"\n",
    "    :param t:\n",
    "        number significand bits\n",
    "    :return:\n",
    "        unit round off based on nearest interpolation, for reference see [1]\n",
    "    \"\"\"\n",
    "    return 0.5 * 2. ** (1. - t)\n",
    "\n",
    "\n",
    "SIGNIFICANT_BIT_PRECISION = [unit_round_off(t=i + 1) for i in range(23)]\n",
    "\n",
    "\n",
    "def float_precision(x):\n",
    "\n",
    "    out = np.sum([x < sbp for sbp in SIGNIFICANT_BIT_PRECISION])\n",
    "    return out\n",
    "\n",
    "\n",
    "def float_precisions(X, dist_fun, layer=1):\n",
    "\n",
    "    X = X.flatten()\n",
    "    out = [float_precision(2 * x) for x in X]\n",
    "    out = np.ceil(dist_fun(out))\n",
    "    return out\n",
    "\n",
    "\n",
    "def special_round(input, significant_bit):\n",
    "    delta = unit_round_off(t=significant_bit)\n",
    "    rounded = np.floor(input / delta + 0.5)\n",
    "    rounded = rounded * delta\n",
    "    return rounded\n",
    "\n",
    "\n",
    "def fast_infernce_weights(w, exponent_bit, significant_bit):\n",
    "\n",
    "    return special_round(w, significant_bit)\n",
    "\n",
    "\n",
    "def compress_matrix(x):\n",
    "\n",
    "    if len(x.shape) != 2:\n",
    "        A, B, C, D = x.shape\n",
    "        x = x.reshape(A * B,  C * D)\n",
    "        # remove non-necessary filters and rows\n",
    "        x = x[:, (x != 0).any(axis=0)]\n",
    "        x = x[(x != 0).any(axis=1), :]\n",
    "    else:\n",
    "        # remove unnecessary rows, columns\n",
    "        x = x[(x != 0).any(axis=1), :]\n",
    "        x = x[:, (x != 0).any(axis=0)]\n",
    "    return x\n",
    "\n",
    "\n",
    "def extract_pruned_params(layers, masks):\n",
    "\n",
    "    post_weight_mus = []\n",
    "    post_weight_vars = []\n",
    "\n",
    "    for i, (layer, mask) in enumerate(zip(layers, masks)):\n",
    "        # compute posteriors\n",
    "        post_weight_mu, post_weight_var = layer.compute_posterior_params()\n",
    "        post_weight_var = post_weight_var.cpu().data.numpy()\n",
    "        post_weight_mu  = post_weight_mu.cpu().data.numpy()\n",
    "        # apply mask to mus and variances\n",
    "        post_weight_mu  = post_weight_mu * mask\n",
    "        post_weight_var = post_weight_var * mask\n",
    "\n",
    "        post_weight_mus.append(post_weight_mu)\n",
    "        post_weight_vars.append(post_weight_var)\n",
    "\n",
    "    return post_weight_mus, post_weight_vars\n",
    "\n",
    "\n",
    "# -------------------------------------------------------\n",
    "#  Compression rates (fast inference scenario)\n",
    "# -------------------------------------------------------\n",
    "\n",
    "\n",
    "def _compute_compression_rate(vars, in_precision=32., dist_fun=lambda x: np.max(x), overflow=10e38):\n",
    "    # compute in  number of bits occupied by the original architecture\n",
    "    sizes = [v.size for v in vars]\n",
    "    nb_weights = float(np.sum(sizes))\n",
    "    IN_BITS = in_precision * nb_weights\n",
    "    # prune architecture\n",
    "    vars = [compress_matrix(v) for v in vars]\n",
    "    sizes = [v.size for v in vars]\n",
    "    # compute\n",
    "    significant_bits = [float_precisions(v, dist_fun, layer=k + 1) for k, v in enumerate(vars)]\n",
    "    exponent_bit = np.ceil(np.log2(np.log2(overflow) + 1.) + 1.)\n",
    "    total_bits = [1. + exponent_bit + sb for sb in significant_bits]\n",
    "    OUT_BITS = np.sum(np.asarray(sizes) * np.asarray(total_bits))\n",
    "    return nb_weights / np.sum(sizes), IN_BITS / OUT_BITS, significant_bits, exponent_bit\n",
    "\n",
    "\n",
    "def compute_compression_rate(layers, masks):\n",
    "    # reduce architecture\n",
    "    weight_mus, weight_vars = extract_pruned_params(layers, masks)\n",
    "    # compute overflow level based on maximum weight\n",
    "    overflow = np.max([np.max(np.abs(w)) for w in weight_mus])\n",
    "    # compute compression rate\n",
    "    CR_architecture, CR_fast_inference, _, _ = _compute_compression_rate(weight_vars, dist_fun=lambda x: np.mean(x), overflow=overflow)\n",
    "    print(\"Compressing the architecture will degrease the model by a factor of %.1f.\" % (CR_architecture))\n",
    "    print(\"Making use of weight uncertainty can reduce the model by a factor of %.1f.\" % (CR_fast_inference))\n",
    "\n",
    "\n",
    "def compute_reduced_weights(layers, masks):\n",
    "    weight_mus, weight_vars = extract_pruned_params(layers, masks)\n",
    "    overflow = np.max([np.max(np.abs(w)) for w in weight_mus])\n",
    "    _, _, significant_bits, exponent_bits = _compute_compression_rate(weight_vars, dist_fun=lambda x: np.mean(x), overflow=overflow)\n",
    "    weights = [fast_infernce_weights(weight_mu, exponent_bits, significant_bit) for weight_mu, significant_bit in\n",
    "               zip(weight_mus, significant_bits)]\n",
    "    return weights"
   ]
  },
  {
   "cell_type": "code",
   "execution_count": 778,
   "metadata": {},
   "outputs": [
    {
     "name": "stdout",
     "output_type": "stream",
     "text": [
      "Layer:0\n",
      "Current layer log alpha length:(784,)\n",
      "Next layer log alpha length:(300,)\n",
      "Layer:1\n",
      "Current layer log alpha length:(300,)\n",
      "Next layer log alpha length:(100,)\n",
      "Layer:2\n",
      "Current layer log alpha length:(100,)\n",
      "Next layer log alpha length:(10,)\n",
      "Compressing the architecture will degrease the model by a factor of 2.3.\n",
      "Making use of weight uncertainty can reduce the model by a factor of 9.0.\n"
     ]
    }
   ],
   "source": [
    "layers = [model.fc1, model.fc2, model.fc3]\n",
    "compute_compression_rate(layers, model.get_masks(thresholds))"
   ]
  },
  {
   "cell_type": "code",
   "execution_count": 779,
   "metadata": {},
   "outputs": [
    {
     "name": "stdout",
     "output_type": "stream",
     "text": [
      "Layer:0\n",
      "Current layer log alpha length:(784,)\n",
      "Next layer log alpha length:(300,)\n",
      "Layer:1\n",
      "Current layer log alpha length:(300,)\n",
      "Next layer log alpha length:(100,)\n",
      "Layer:2\n",
      "Current layer log alpha length:(100,)\n",
      "Next layer log alpha length:(10,)\n"
     ]
    }
   ],
   "source": [
    "weights = compute_reduced_weights(layers, model.get_masks(thresholds))"
   ]
  },
  {
   "cell_type": "code",
   "execution_count": 783,
   "metadata": {},
   "outputs": [
    {
     "data": {
      "text/plain": [
       "[array([[0., 0., 0., ..., 0., 0., 0.],\n",
       "        [0., 0., 0., ..., 0., 0., 0.],\n",
       "        [0., 0., 0., ..., 0., 0., 0.],\n",
       "        ...,\n",
       "        [0., 0., 0., ..., 0., 0., 0.],\n",
       "        [0., 0., 0., ..., 0., 0., 0.],\n",
       "        [0., 0., 0., ..., 0., 0., 0.]]),\n",
       " array([[-0.0625 ,  0.     , -0.03125, ..., -0.03125,  0.0625 ,  0.     ],\n",
       "        [-0.15625,  0.     ,  0.03125, ...,  0.03125, -0.15625,  0.     ],\n",
       "        [ 0.     ,  0.     ,  0.     , ...,  0.     ,  0.     ,  0.     ],\n",
       "        ...,\n",
       "        [ 0.21875,  0.     , -0.03125, ..., -0.28125, -0.125  ,  0.     ],\n",
       "        [-0.21875,  0.     , -0.0625 , ...,  0.0625 , -0.0625 ,  0.     ],\n",
       "        [-0.03125,  0.     ,  0.0625 , ...,  0.09375, -0.0625 ,  0.     ]]),\n",
       " array([[-0.05664062, -0.01464844,  0.        ,  0.        ,  0.        ,\n",
       "         -0.03222656,  0.        ,  0.        , -0.07421875,  0.10449219,\n",
       "          0.06347656, -0.08691406,  0.        ,  0.        ,  0.        ,\n",
       "          0.01660156,  0.01757812,  0.        ,  0.        ,  0.        ,\n",
       "          0.08789062,  0.        ,  0.08691406,  0.05175781, -0.08496094,\n",
       "          0.        , -0.21191406, -0.09472656,  0.        , -0.07128906,\n",
       "         -0.10742188, -0.05664062, -0.05175781, -0.05664062,  0.        ,\n",
       "         -0.09375   ,  0.02636719, -0.07714844,  0.        , -0.04882812,\n",
       "          0.        ,  0.        ,  0.04394531, -0.03808594, -0.15429688,\n",
       "          0.00195312,  0.        ,  0.        ,  0.03417969,  0.0859375 ,\n",
       "          0.07714844, -0.16699219, -0.0703125 ,  0.        ,  0.02636719,\n",
       "          0.08496094, -0.09277344,  0.12597656,  0.        , -0.0234375 ,\n",
       "         -0.15332031,  0.        ,  0.1015625 ,  0.        ,  0.10742188,\n",
       "          0.10253906,  0.08203125, -0.17675781, -0.078125  , -0.13769531,\n",
       "         -0.15039062, -0.046875  ,  0.        ,  0.11132812,  0.10058594,\n",
       "          0.        , -0.26367188,  0.046875  , -0.125     ,  0.05078125,\n",
       "          0.06640625,  0.        , -0.08007812, -0.05859375,  0.05566406,\n",
       "         -0.06835938,  0.05078125, -0.15332031,  0.        ,  0.        ,\n",
       "          0.09082031, -0.18359375,  0.07617188,  0.        ,  0.01074219,\n",
       "         -0.07617188, -0.13085938, -0.07324219,  0.03125   , -0.11132812],\n",
       "        [ 0.06738281, -0.10058594,  0.        ,  0.        ,  0.        ,\n",
       "         -0.16015625,  0.        ,  0.        , -0.12402344, -0.00976562,\n",
       "          0.06933594,  0.10546875,  0.        ,  0.        ,  0.        ,\n",
       "         -0.19335938, -0.11328125,  0.        ,  0.        ,  0.        ,\n",
       "         -0.09472656,  0.        , -0.11425781, -0.07226562,  0.00488281,\n",
       "          0.        ,  0.05371094,  0.06933594, -0.04589844,  0.0078125 ,\n",
       "         -0.09472656, -0.05664062, -0.15527344, -0.18652344,  0.        ,\n",
       "          0.01464844, -0.11621094,  0.02148438,  0.        , -0.08691406,\n",
       "          0.        ,  0.        , -0.09667969, -0.04882812,  0.12011719,\n",
       "          0.08105469,  0.        ,  0.        ,  0.02246094, -0.13378906,\n",
       "         -0.17578125,  0.03808594, -0.07128906,  0.        ,  0.09765625,\n",
       "         -0.14746094, -0.1015625 , -0.03125   ,  0.        , -0.04492188,\n",
       "         -0.11230469,  0.        , -0.109375  ,  0.        , -0.19433594,\n",
       "          0.09375   ,  0.        ,  0.02636719,  0.05664062, -0.07421875,\n",
       "          0.06542969,  0.09765625,  0.        , -0.02734375,  0.08105469,\n",
       "          0.        , -0.08105469, -0.10644531,  0.06835938, -0.11230469,\n",
       "         -0.04589844,  0.        , -0.1015625 ,  0.01269531,  0.01953125,\n",
       "         -0.13769531, -0.03125   , -0.03222656,  0.        ,  0.        ,\n",
       "         -0.02636719, -0.0078125 , -0.10644531,  0.        , -0.05664062,\n",
       "          0.02929688,  0.01464844,  0.10449219, -0.18359375, -0.18066406],\n",
       "        [-0.14160156, -0.08300781,  0.        ,  0.        ,  0.        ,\n",
       "         -0.05273438,  0.        ,  0.        , -0.06445312, -0.09179688,\n",
       "         -0.08496094,  0.10742188,  0.        ,  0.        ,  0.        ,\n",
       "          0.03417969,  0.01757812,  0.        ,  0.        ,  0.        ,\n",
       "         -0.05566406,  0.        ,  0.00878906,  0.0078125 ,  0.0234375 ,\n",
       "          0.        , -0.11132812, -0.11328125,  0.00390625, -0.07617188,\n",
       "         -0.00878906, -0.04101562,  0.03613281, -0.11230469,  0.        ,\n",
       "          0.13378906,  0.12792969,  0.10546875,  0.        , -0.15429688,\n",
       "          0.        ,  0.        , -0.15234375,  0.04785156, -0.171875  ,\n",
       "         -0.08300781,  0.        ,  0.        , -0.09863281, -0.00878906,\n",
       "         -0.16796875, -0.06542969, -0.20898438,  0.        ,  0.03613281,\n",
       "         -0.13964844, -0.0234375 ,  0.1015625 ,  0.        , -0.00976562,\n",
       "         -0.10546875,  0.        ,  0.02636719,  0.        ,  0.00976562,\n",
       "          0.02636719,  0.09082031, -0.13476562,  0.00976562,  0.03613281,\n",
       "         -0.08300781, -0.05175781,  0.        , -0.02050781,  0.05664062,\n",
       "          0.        , -0.00488281,  0.03027344,  0.05371094, -0.16503906,\n",
       "          0.01269531,  0.        , -0.0078125 ,  0.0546875 , -0.1171875 ,\n",
       "          0.08300781, -0.02148438, -0.01171875,  0.        ,  0.        ,\n",
       "          0.07519531,  0.02050781, -0.09375   ,  0.        ,  0.06738281,\n",
       "          0.04785156,  0.02539062,  0.08007812, -0.02832031, -0.09277344],\n",
       "        [-0.19726562, -0.01464844,  0.        ,  0.        ,  0.        ,\n",
       "         -0.08496094,  0.        ,  0.        , -0.01074219,  0.02734375,\n",
       "         -0.05078125, -0.04980469,  0.        ,  0.        ,  0.        ,\n",
       "         -0.07519531, -0.07714844,  0.        ,  0.        ,  0.        ,\n",
       "         -0.07128906,  0.        , -0.08105469, -0.04980469, -0.02050781,\n",
       "          0.        ,  0.08496094,  0.08105469, -0.02050781, -0.00195312,\n",
       "         -0.14746094,  0.03320312, -0.06054688,  0.10644531,  0.        ,\n",
       "          0.09179688, -0.09472656,  0.03125   ,  0.        , -0.08886719,\n",
       "          0.        ,  0.        , -0.13183594,  0.05761719, -0.09375   ,\n",
       "         -0.08496094,  0.        ,  0.        , -0.11132812, -0.07714844,\n",
       "          0.00976562, -0.00488281, -0.18164062,  0.        , -0.03710938,\n",
       "         -0.10742188,  0.16699219,  0.00195312,  0.        , -0.05371094,\n",
       "          0.03027344,  0.        , -0.07617188,  0.        ,  0.08300781,\n",
       "          0.00878906,  0.05566406, -0.03320312, -0.0546875 , -0.02539062,\n",
       "          0.03027344,  0.06152344,  0.        ,  0.02929688, -0.03222656,\n",
       "          0.        , -0.00976562,  0.06152344,  0.03515625,  0.06347656,\n",
       "          0.03808594,  0.        ,  0.03710938, -0.01953125, -0.04980469,\n",
       "          0.03125   ,  0.015625  ,  0.10644531,  0.        ,  0.        ,\n",
       "         -0.046875  ,  0.05371094, -0.07714844,  0.        ,  0.07617188,\n",
       "          0.1328125 , -0.10839844, -0.13574219, -0.16601562, -0.01074219],\n",
       "        [ 0.04589844,  0.03613281,  0.        ,  0.        ,  0.        ,\n",
       "          0.00878906,  0.        ,  0.        ,  0.04003906,  0.01367188,\n",
       "         -0.05078125, -0.04785156,  0.        ,  0.        ,  0.        ,\n",
       "          0.06054688, -0.06445312,  0.        ,  0.        ,  0.        ,\n",
       "         -0.05078125,  0.        , -0.10742188,  0.05078125,  0.03320312,\n",
       "          0.        , -0.01660156,  0.05371094,  0.01757812,  0.01953125,\n",
       "         -0.02636719,  0.07421875,  0.00292969, -0.05761719,  0.        ,\n",
       "         -0.09765625,  0.11230469, -0.03222656,  0.        , -0.06347656,\n",
       "          0.        ,  0.        ,  0.10839844, -0.09765625,  0.01855469,\n",
       "          0.03808594,  0.        ,  0.        ,  0.02636719, -0.02148438,\n",
       "          0.        ,  0.05273438, -0.00195312,  0.        ,  0.02734375,\n",
       "          0.04589844, -0.11816406, -0.0546875 ,  0.        , -0.09667969,\n",
       "         -0.078125  ,  0.        , -0.06152344,  0.        , -0.125     ,\n",
       "         -0.08300781,  0.02246094,  0.0234375 ,  0.03417969, -0.0703125 ,\n",
       "         -0.11621094,  0.01953125,  0.        , -0.06542969, -0.12695312,\n",
       "          0.        ,  0.01367188,  0.03515625, -0.01171875, -0.10742188,\n",
       "         -0.07714844,  0.        ,  0.03027344, -0.11328125, -0.11328125,\n",
       "         -0.12597656, -0.18652344, -0.06152344,  0.        ,  0.        ,\n",
       "          0.05078125, -0.08789062,  0.04882812,  0.        , -0.1875    ,\n",
       "         -0.04199219,  0.00976562, -0.00195312,  0.02148438,  0.05273438],\n",
       "        [-0.10742188,  0.03515625,  0.        ,  0.        ,  0.        ,\n",
       "          0.00390625,  0.        ,  0.        ,  0.05761719, -0.06445312,\n",
       "          0.07128906, -0.01367188,  0.        ,  0.        ,  0.        ,\n",
       "         -0.08203125,  0.05957031,  0.        ,  0.        ,  0.        ,\n",
       "          0.05761719,  0.        ,  0.05371094, -0.03515625, -0.04980469,\n",
       "          0.        ,  0.11425781,  0.015625  , -0.04492188,  0.00390625,\n",
       "         -0.15429688,  0.03515625,  0.04296875,  0.08007812,  0.        ,\n",
       "         -0.09375   , -0.10351562,  0.00585938,  0.        , -0.0546875 ,\n",
       "          0.        ,  0.        , -0.18847656, -0.07714844,  0.01953125,\n",
       "         -0.11230469,  0.        ,  0.        , -0.20996094,  0.02929688,\n",
       "         -0.0234375 ,  0.05664062, -0.02929688,  0.        ,  0.03613281,\n",
       "         -0.15429688, -0.0859375 , -0.07519531,  0.        , -0.03027344,\n",
       "         -0.11621094,  0.        , -0.03125   ,  0.        ,  0.0859375 ,\n",
       "         -0.09667969, -0.11523438, -0.12402344, -0.10351562, -0.00390625,\n",
       "          0.09960938,  0.03125   ,  0.        ,  0.02148438, -0.02246094,\n",
       "          0.        ,  0.08105469,  0.04101562,  0.01171875,  0.08007812,\n",
       "         -0.02734375,  0.        , -0.09863281, -0.09667969,  0.14746094,\n",
       "         -0.16894531,  0.13378906, -0.14746094,  0.        ,  0.        ,\n",
       "         -0.046875  , -0.046875  , -0.13867188,  0.        ,  0.125     ,\n",
       "         -0.01074219, -0.11230469, -0.07324219, -0.09863281,  0.06542969],\n",
       "        [-0.203125  ,  0.03222656,  0.        ,  0.        ,  0.        ,\n",
       "         -0.15039062,  0.        ,  0.        ,  0.07324219,  0.08300781,\n",
       "          0.03125   ,  0.06347656,  0.        ,  0.        ,  0.        ,\n",
       "          0.03515625,  0.06347656,  0.        ,  0.        ,  0.        ,\n",
       "          0.11914062,  0.        , -0.01757812, -0.04199219, -0.03222656,\n",
       "          0.        , -0.28417969, -0.1875    , -0.08789062, -0.0625    ,\n",
       "          0.0703125 , -0.08007812,  0.02148438, -0.00292969,  0.        ,\n",
       "         -0.07421875, -0.11425781,  0.01757812,  0.        ,  0.08886719,\n",
       "          0.        ,  0.        , -0.03417969, -0.02832031, -0.0859375 ,\n",
       "         -0.01757812,  0.        ,  0.        , -0.14648438, -0.06933594,\n",
       "          0.13183594,  0.08398438,  0.08691406,  0.        ,  0.03613281,\n",
       "          0.05175781, -0.04199219, -0.04492188,  0.        , -0.0859375 ,\n",
       "         -0.14648438,  0.        , -0.08007812,  0.        , -0.05175781,\n",
       "         -0.00976562, -0.109375  , -0.12402344, -0.11523438, -0.14355469,\n",
       "         -0.03417969, -0.03515625,  0.        , -0.02246094, -0.03125   ,\n",
       "          0.        ,  0.01953125, -0.18847656, -0.07226562,  0.07226562,\n",
       "          0.10351562,  0.        , -0.125     , -0.10742188,  0.09960938,\n",
       "         -0.20507812,  0.12695312, -0.09765625,  0.        ,  0.        ,\n",
       "          0.03027344, -0.19140625,  0.01757812,  0.        ,  0.06835938,\n",
       "         -0.265625  ,  0.03027344,  0.04882812, -0.1171875 , -0.11523438],\n",
       "        [ 0.05273438,  0.06542969,  0.        ,  0.        ,  0.        ,\n",
       "         -0.07519531,  0.        ,  0.        ,  0.00488281, -0.11425781,\n",
       "          0.09863281,  0.10839844,  0.        ,  0.        ,  0.        ,\n",
       "         -0.19628906, -0.08300781,  0.        ,  0.        ,  0.        ,\n",
       "         -0.10742188,  0.        ,  0.14160156,  0.05273438,  0.04296875,\n",
       "          0.        , -0.11621094,  0.08691406, -0.02539062, -0.07617188,\n",
       "          0.109375  ,  0.04003906, -0.03613281, -0.171875  ,  0.        ,\n",
       "          0.12304688, -0.13867188, -0.05371094,  0.        ,  0.16210938,\n",
       "          0.        ,  0.        , -0.02050781,  0.04003906,  0.05859375,\n",
       "         -0.16699219,  0.        ,  0.        , -0.06542969,  0.09472656,\n",
       "         -0.16601562, -0.12597656, -0.24023438,  0.        , -0.05761719,\n",
       "          0.04882812, -0.14550781, -0.02832031,  0.        , -0.02246094,\n",
       "         -0.02929688,  0.        ,  0.00292969,  0.        , -0.00488281,\n",
       "          0.00878906,  0.00585938,  0.05175781,  0.01855469,  0.04785156,\n",
       "          0.01367188,  0.03222656,  0.        , -0.17285156,  0.05566406,\n",
       "          0.        , -0.05957031,  0.04199219, -0.03515625, -0.03515625,\n",
       "         -0.00195312,  0.        ,  0.04101562, -0.00097656, -0.12011719,\n",
       "          0.11425781, -0.08691406,  0.05761719,  0.        ,  0.        ,\n",
       "          0.01953125,  0.00878906,  0.046875  ,  0.        , -0.1328125 ,\n",
       "          0.078125  , -0.13574219, -0.05859375, -0.00488281,  0.03222656],\n",
       "        [-0.09277344, -0.03417969,  0.        ,  0.        ,  0.        ,\n",
       "         -0.19628906,  0.        ,  0.        , -0.02832031, -0.16015625,\n",
       "          0.02148438, -0.09765625,  0.        ,  0.        ,  0.        ,\n",
       "         -0.10058594,  0.04003906,  0.        ,  0.        ,  0.        ,\n",
       "          0.03222656,  0.        , -0.13574219, -0.05859375,  0.01074219,\n",
       "          0.        , -0.24902344, -0.01953125,  0.01757812, -0.05664062,\n",
       "         -0.19238281,  0.02441406, -0.04003906,  0.09375   ,  0.        ,\n",
       "         -0.09570312, -0.25585938,  0.04101562,  0.        ,  0.        ,\n",
       "          0.        ,  0.        , -0.01367188, -0.01171875,  0.04003906,\n",
       "         -0.09667969,  0.        ,  0.        ,  0.06152344, -0.08984375,\n",
       "         -0.09179688, -0.01367188,  0.08691406,  0.        , -0.03808594,\n",
       "         -0.1640625 , -0.01953125,  0.08398438,  0.        , -0.08300781,\n",
       "          0.07421875,  0.        ,  0.02832031,  0.        ,  0.02734375,\n",
       "          0.07128906,  0.01757812, -0.10253906,  0.00976562, -0.00878906,\n",
       "          0.02929688, -0.03710938,  0.        ,  0.00976562, -0.10644531,\n",
       "          0.        , -0.13476562,  0.02148438,  0.05957031, -0.05175781,\n",
       "         -0.01953125,  0.        ,  0.10839844, -0.046875  , -0.02148438,\n",
       "          0.06152344,  0.0390625 ,  0.01953125,  0.        ,  0.        ,\n",
       "         -0.07617188, -0.08007812, -0.12304688,  0.        ,  0.0859375 ,\n",
       "          0.09277344, -0.10253906,  0.07226562, -0.11523438,  0.07226562],\n",
       "        [-0.08203125, -0.00195312,  0.        ,  0.        ,  0.        ,\n",
       "          0.08886719,  0.        ,  0.        , -0.06445312, -0.09960938,\n",
       "          0.01855469, -0.09863281,  0.        ,  0.        ,  0.        ,\n",
       "          0.02734375, -0.00097656,  0.        ,  0.        ,  0.        ,\n",
       "         -0.02832031,  0.        , -0.03710938, -0.08398438,  0.04589844,\n",
       "          0.        ,  0.05859375,  0.08984375, -0.08984375, -0.09863281,\n",
       "          0.03222656, -0.046875  , -0.16796875,  0.04785156,  0.        ,\n",
       "          0.02148438, -0.01757812, -0.015625  ,  0.        , -0.05078125,\n",
       "          0.        ,  0.        ,  0.125     , -0.08496094,  0.07324219,\n",
       "         -0.04785156,  0.        ,  0.        ,  0.109375  ,  0.0546875 ,\n",
       "          0.03125   , -0.01464844, -0.04296875,  0.        , -0.06542969,\n",
       "          0.04199219, -0.29101562, -0.19921875,  0.        , -0.1015625 ,\n",
       "          0.10253906,  0.        ,  0.04980469,  0.        ,  0.03320312,\n",
       "         -0.03027344,  0.06347656, -0.02539062,  0.06835938, -0.05273438,\n",
       "         -0.02539062,  0.03808594,  0.        ,  0.01757812, -0.08886719,\n",
       "          0.        ,  0.02246094,  0.09765625,  0.0078125 , -0.09472656,\n",
       "          0.02636719,  0.        , -0.03125   ,  0.00585938,  0.04199219,\n",
       "          0.0703125 , -0.09960938, -0.08496094,  0.        ,  0.        ,\n",
       "         -0.03027344, -0.13769531, -0.01367188,  0.        , -0.02832031,\n",
       "          0.07421875, -0.12988281, -0.11816406,  0.05761719,  0.04003906]])]"
      ]
     },
     "execution_count": 783,
     "metadata": {},
     "output_type": "execute_result"
    }
   ],
   "source": [
    "weights"
   ]
  },
  {
   "cell_type": "code",
   "execution_count": null,
   "metadata": {},
   "outputs": [],
   "source": []
  }
 ],
 "metadata": {
  "kernelspec": {
   "display_name": "Python 3",
   "language": "python",
   "name": "python3"
  },
  "language_info": {
   "codemirror_mode": {
    "name": "ipython",
    "version": 3
   },
   "file_extension": ".py",
   "mimetype": "text/x-python",
   "name": "python",
   "nbconvert_exporter": "python",
   "pygments_lexer": "ipython3",
   "version": "3.7.6"
  }
 },
 "nbformat": 4,
 "nbformat_minor": 4
}
